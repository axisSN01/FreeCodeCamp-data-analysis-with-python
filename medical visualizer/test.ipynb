{
 "cells": [
  {
   "cell_type": "code",
   "execution_count": 1,
   "metadata": {},
   "outputs": [],
   "source": [
    "import pandas as pd\n",
    "import seaborn as sns\n",
    "import matplotlib.pyplot as plt\n",
    "import numpy as np\n",
    "\n",
    "# Import data\n",
    "df = pd.read_csv(r'C:\\Users\\Compumundo\\Desktop\\Data Science\\FreeCODECAMP\\medical visualizer\\medical_examination.csv')\n"
   ]
  },
  {
   "cell_type": "code",
   "execution_count": 25,
   "metadata": {},
   "outputs": [],
   "source": [
    "import unittest\n",
    "import matplotlib as mpl\n"
   ]
  },
  {
   "cell_type": "code",
   "execution_count": 2,
   "metadata": {},
   "outputs": [],
   "source": [
    "# Add 'overweight' column\n",
    "df['overweight'] = df['weight'] /(0.01*df['height'])**2\n",
    "df['overweight'] = df['overweight'].apply(lambda x: 1 if x >= 25 else 0)\n",
    "\n",
    "# Normalize data by making 0 always good and 1 always bad. If the value of 'cholesterol' or 'gluc' is 1, make the value 0. If the value is more than 1, make the value 1.\n",
    "df['cholesterol'] = df['cholesterol'].apply(lambda x: 1 if x != 1 else 0)\n",
    "df['gluc'] = df['gluc'].apply(lambda x: 1 if x != 1 else 0)\n"
   ]
  },
  {
   "cell_type": "code",
   "execution_count": null,
   "metadata": {},
   "outputs": [],
   "source": [
    "df"
   ]
  },
  {
   "cell_type": "code",
   "execution_count": 26,
   "metadata": {},
   "outputs": [],
   "source": [
    "# Draw Categorical Plot\n",
    "def draw_cat_plot():\n",
    "      # Create DataFrame for cat plot using `pd.melt` using just the values from 'cholesterol', 'gluc', 'smoke', 'alco', 'active', and 'overweight'.\n",
    "    df2 = df.melt(id_vars=['cardio'] , value_vars=['cholesterol', 'gluc', 'smoke', 'alco', 'active', 'overweight'])\n",
    "    df_cat = pd.DataFrame(df2.groupby(['variable', 'value', 'cardio'])['value'].count()).rename( columns={'value': 'total'}).reset_index()\n",
    "  \n",
    "      # Group and reformat the data to split it by 'cardio'. Show the counts of each feature. You will have to rename one of the columns for the catplot to work correctly.\n",
    "      \n",
    "      # Draw the catplot with 'sns.catplot()'\n",
    "  \n",
    "      # Get the figure for the output\n",
    "    fig = sns.catplot(x='variable', y=\"total\", hue = 'value', col=\"cardio\", data=df_cat, kind=\"bar\" )\n",
    "  \n",
    "      # Do not modify the next two lines\n",
    "    fig.savefig('catplot.png')\n",
    "    return fig\n"
   ]
  },
  {
   "cell_type": "code",
   "execution_count": null,
   "metadata": {},
   "outputs": [],
   "source": [
    "draw_cat_plot()"
   ]
  },
  {
   "cell_type": "code",
   "execution_count": 27,
   "metadata": {},
   "outputs": [],
   "source": [
    "class CatPlotTestCase(unittest.TestCase):\n",
    "    def setUp(self):\n",
    "        self.fig = draw_cat_plot()\n",
    "        self.ax = self.fig.axes[0]\n",
    "    \n",
    "    def test_line_plot_labels(self):\n",
    "        actual = self.ax.get_xlabel()\n",
    "        expected = \"variable\"\n",
    "        self.assertEqual(actual, expected, \"Expected line plot xlabel to be 'variable'\")\n",
    "        actual = self.ax.get_ylabel()\n",
    "        expected = \"total\"\n",
    "        self.assertEqual(actual, expected, \"Expected line plot ylabel to be 'total'\")\n",
    "        actual = []\n",
    "        for label in self.ax.get_xaxis().get_majorticklabels():\n",
    "            actual.append(label.get_text())\n",
    "        expected = ['active', 'alco', 'cholesterol', 'gluc', 'overweight', 'smoke']\n",
    "        self.assertEqual(actual, expected, \"Expected bar plot secondary x labels to be 'active', 'alco', 'cholesterol', 'gluc', 'overweight', 'smoke'\")\n",
    "\n",
    "    def test_bar_plot_number_of_bars(self):\n",
    "        actual = len([rect for rect in self.ax.get_children() if isinstance(rect, mpl.patches.Rectangle)])\n",
    "        expected = 13\n",
    "        self.assertEqual(actual, expected, \"Expected a different number of bars chart.\")\n",
    "\n"
   ]
  },
  {
   "cell_type": "code",
   "execution_count": 28,
   "metadata": {},
   "outputs": [
    {
     "data": {
      "image/png": "[encoded data removed]",
      "text/plain": [
       "<Figure size 1058.88x500 with 2 Axes>"
      ]
     },
     "metadata": {},
     "output_type": "display_data"
    }
   ],
   "source": [
    "a = CatPlotTestCase()\n",
    "a.setUp()\n"
   ]
  },
  {
   "cell_type": "code",
   "execution_count": 29,
   "metadata": {},
   "outputs": [
    {
     "ename": "AttributeError",
     "evalue": "'numpy.ndarray' object has no attribute 'get_xlabel'",
     "output_type": "error",
     "traceback": [
      "\u001b[1;31m---------------------------------------------------------------------------\u001b[0m",
      "\u001b[1;31mAttributeError\u001b[0m                            Traceback (most recent call last)",
      "\u001b[1;32mc:\\Users\\Compumundo\\Desktop\\Data Science\\FreeCODECAMP\\medical visualizer\\test.ipynb Celda 9\u001b[0m in \u001b[0;36m<cell line: 1>\u001b[1;34m()\u001b[0m\n\u001b[1;32m----> <a href='vscode-notebook-cell:/c%3A/Users/Compumundo/Desktop/Data%20Science/FreeCODECAMP/medical%20visualizer/test.ipynb#X13sZmlsZQ%3D%3D?line=0'>1</a>\u001b[0m a\u001b[39m.\u001b[39;49mtest_line_plot_labels()\n",
      "\u001b[1;32mc:\\Users\\Compumundo\\Desktop\\Data Science\\FreeCODECAMP\\medical visualizer\\test.ipynb Celda 9\u001b[0m in \u001b[0;36mCatPlotTestCase.test_line_plot_labels\u001b[1;34m(self)\u001b[0m\n\u001b[0;32m      <a href='vscode-notebook-cell:/c%3A/Users/Compumundo/Desktop/Data%20Science/FreeCODECAMP/medical%20visualizer/test.ipynb#X13sZmlsZQ%3D%3D?line=5'>6</a>\u001b[0m \u001b[39mdef\u001b[39;00m \u001b[39mtest_line_plot_labels\u001b[39m(\u001b[39mself\u001b[39m):\n\u001b[1;32m----> <a href='vscode-notebook-cell:/c%3A/Users/Compumundo/Desktop/Data%20Science/FreeCODECAMP/medical%20visualizer/test.ipynb#X13sZmlsZQ%3D%3D?line=6'>7</a>\u001b[0m     actual \u001b[39m=\u001b[39m \u001b[39mself\u001b[39;49m\u001b[39m.\u001b[39;49max\u001b[39m.\u001b[39;49mget_xlabel()\n\u001b[0;32m      <a href='vscode-notebook-cell:/c%3A/Users/Compumundo/Desktop/Data%20Science/FreeCODECAMP/medical%20visualizer/test.ipynb#X13sZmlsZQ%3D%3D?line=7'>8</a>\u001b[0m     expected \u001b[39m=\u001b[39m \u001b[39m\"\u001b[39m\u001b[39mvariable\u001b[39m\u001b[39m\"\u001b[39m\n\u001b[0;32m      <a href='vscode-notebook-cell:/c%3A/Users/Compumundo/Desktop/Data%20Science/FreeCODECAMP/medical%20visualizer/test.ipynb#X13sZmlsZQ%3D%3D?line=8'>9</a>\u001b[0m     \u001b[39mself\u001b[39m\u001b[39m.\u001b[39massertEqual(actual, expected, \u001b[39m\"\u001b[39m\u001b[39mExpected line plot xlabel to be \u001b[39m\u001b[39m'\u001b[39m\u001b[39mvariable\u001b[39m\u001b[39m'\u001b[39m\u001b[39m\"\u001b[39m)\n",
      "\u001b[1;31mAttributeError\u001b[0m: 'numpy.ndarray' object has no attribute 'get_xlabel'"
     ]
    }
   ],
   "source": [
    "a.test_line_plot_labels()"
   ]
  },
  {
   "cell_type": "code",
   "execution_count": 14,
   "metadata": {},
   "outputs": [],
   "source": [
    "def draw_heat_map():\n",
    "    # Clean the data\n",
    "    df_heat = df.copy()\n",
    "\n",
    "    # Calculate the correlation matrix\n",
    "    corr = df_heat.corr()\n",
    "\n",
    "    # Generate a mask for the upper triangle\n",
    "    mask = np.triu(np.ones_like(corr, dtype=bool))\n",
    "\n",
    "    # Set up the matplotlib figure\n",
    "    #fig, ax = plt.subplots(figsize=(11, 9))\n",
    "\n",
    "    # Draw the heatmap with 'sns.heatmap()'\n",
    "    fig = sns.heatmap(corr, mask=mask, fmt='.1f', vmax=.3, center=0,\n",
    "                square=True, linewidths=.5, cbar_kws={\"shrink\": .5}, annot=True)\n",
    "\n",
    "    # Do not modify the next two lines\n",
    "    fig.savefig('heatmap.png')\n",
    "    return fig"
   ]
  },
  {
   "cell_type": "code",
   "execution_count": null,
   "metadata": {},
   "outputs": [],
   "source": [
    "draw_heat_map()"
   ]
  }
 ],
 "metadata": {
  "kernelspec": {
   "display_name": "Python 3.10.6 64-bit",
   "language": "python",
   "name": "python3"
  },
  "language_info": {
   "codemirror_mode": {
    "name": "ipython",
    "version": 3
   },
   "file_extension": ".py",
   "mimetype": "text/x-python",
   "name": "python",
   "nbconvert_exporter": "python",
   "pygments_lexer": "ipython3",
   "version": "3.10.6"
  },
  "orig_nbformat": 4,
  "vscode": {
   "interpreter": {
    "hash": "144372bfbc1aac27d165d98489f7094c70a375d8401f07d10af154f49c62a5f0"
   }
  }
 },
 "nbformat": 4,
 "nbformat_minor": 2
}
